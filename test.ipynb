{
 "cells": [
  {
   "cell_type": "code",
   "execution_count": 1,
   "id": "initial_id",
   "metadata": {
    "collapsed": true
   },
   "outputs": [],
   "source": [
    "#import\n",
    "import torch\n",
    "from torch import nn,optim\n",
    "from tqdm import tqdm\n",
    "import numpy as np\n",
    "import matplotlib.pyplot as plt\n",
    "import torchvision\n",
    "from torchvision import transforms\n",
    "from torch.utils.data import DataLoader\n",
    "from torchvision import datasets"
   ]
  },
  {
   "cell_type": "code",
   "execution_count": 2,
   "metadata": {},
   "outputs": [],
   "source": [
    "# Construct Distiller class\n",
    "\n",
    "class Distiller(nn.Module):\n",
    "    def __init__(self,student,teacher):\n",
    "        super(Distiller,self).__init__()\n",
    "        self.student = student\n",
    "        self.teacher = teacher\n",
    "        self.teacher.eval()\n",
    "        for p in self.teacher.parameters():\n",
    "            p.requires_grad = False\n",
    "        self.KL = nn.KLDivLoss(reduction='batchmean')\n",
    "\n",
    "    def forward(self,x):\n",
    "        student_logits = self.student(x)\n",
    "        with torch.no_grad():\n",
    "            teacher_logits = self.teacher(x)\n",
    "        return student_logits,teacher_logits\n",
    "    \n",
    "    def loss(self,student_logits,teacher_logits,T=20,alpha=0.5):\n",
    "        student_softmax = nn.functional.softmax(student_logits/T,dim=1)\n",
    "        \n",
    "        teacher_softmax = nn.functional.softmax(teacher_logits/T,dim=1)\n",
    "        loss = alpha*T*T*self.KL(student_softmax,teacher_softmax) + nn.functional.cross_entropy(student_logits,torch.argmax(teacher_softmax,dim=1))*(1. - alpha)\n",
    "        return loss\n",
    "\n",
    "    def train(self,trainloader,optimizer,epochs=10,T=20,alpha=0.5):\n",
    "        self.student.train()\n",
    "        for epoch in range(epochs):\n",
    "            running_loss = 0.0\n",
    "            for i,data in enumerate(tqdm(trainloader)):\n",
    "                inputs,labels = data\n",
    "                optimizer.zero_grad()\n",
    "                student_logits,teacher_logits = self(inputs)\n",
    "                loss = self.loss(student_logits,teacher_logits,T,alpha)\n",
    "                loss.backward()\n",
    "                optimizer.step()\n",
    "                running_loss += loss.item()\n",
    "            print(\"Student loss: %.3f\" % (running_loss/len(trainloader)))\n",
    "            print('Teacher loss: %.3f' % (nn.functional.cross_entropy(teacher_logits,labels)))\n",
    "            print('Distillation loss: %.3f' % (self.KL(nn.functional.softmax(student_logits/T,dim=1),nn.functional.softmax(teacher_logits/T,dim=1))))\n",
    "            print('Epoch: %d, Loss: %.3f' % (epoch + 1, running_loss / len(trainloader)))\n",
    "        print('Finished Training')\n",
    "\n",
    "    def test(self,testloader):\n",
    "        self.student.eval()\n",
    "        correct = 0\n",
    "        total = 0\n",
    "        with torch.no_grad():\n",
    "            for data in tqdm(testloader):\n",
    "                images, labels = data\n",
    "                outputs = self.student(images)\n",
    "                _, predicted = torch.max(outputs.data, 1)\n",
    "                total += labels.size(0)\n",
    "                correct += (predicted == labels).sum()\n",
    "        print('Accuracy of the network on the 10000 test images: %d %%' % (100 * correct / total))\n",
    "\n",
    "    def save(self,path):\n",
    "        torch.save(self.student.state_dict(),path)\n",
    "\n",
    "    def load(self,path):\n",
    "        self.student.load_state_dict(torch.load(path))\n",
    "\n"
   ]
  },
  {
   "cell_type": "code",
   "execution_count": 3,
   "metadata": {},
   "outputs": [],
   "source": [
    "\n",
    "# Creat Student and Teacher\n",
    "class Student(nn.Module):\n",
    "    def __init__(self, infeatures=784, outfeatures=10):\n",
    "        super().__init__()\n",
    "        self.fc1 = nn.Linear(infeatures, 256)\n",
    "        self.LeakyReLU = nn.LeakyReLU()\n",
    "        self.fc2 = nn.Linear(256, 128)\n",
    "        self.fc3 = nn.Linear(128, outfeatures)\n",
    "        self.softmax = nn.Softmax(dim=1)\n",
    "\n",
    "    def forward(self, x):\n",
    "        x = x.view(-1, 784)\n",
    "        x = self.fc1(x)\n",
    "        x = self.LeakyReLU(x)\n",
    "        x = self.fc2(x)\n",
    "        x = self.LeakyReLU(x)\n",
    "        x = self.fc3(x)\n",
    "        x = self.softmax(x)\n",
    "        return x\n",
    "\n",
    "class Teacher(nn.Module):\n",
    "    def __init__(self, infeatures=784, outfeatures=10):\n",
    "        super().__init__()\n",
    "        self.fc1 = nn.Linear(infeatures, 256)\n",
    "        self.LeakyReLU = nn.LeakyReLU()\n",
    "        self.fc2 = nn.Linear(256, 128)\n",
    "        self.fc3 = nn.Linear(128, outfeatures)\n",
    "        self.softmax = nn.Softmax(dim=1)\n",
    "\n",
    "    def forward(self, x):\n",
    "        x = x.view(-1, 784)\n",
    "        x = self.fc1(x)\n",
    "        x = self.LeakyReLU(x)\n",
    "        x = self.fc2(x)\n",
    "        x = self.LeakyReLU(x)\n",
    "        x = self.fc3(x)\n",
    "        x = self.softmax(x)\n",
    "        return x"
   ]
  },
  {
   "cell_type": "code",
   "execution_count": 4,
   "metadata": {},
   "outputs": [
    {
     "name": "stdout",
     "output_type": "stream",
     "text": [
      "Downloading http://yann.lecun.com/exdb/mnist/train-images-idx3-ubyte.gz\n",
      "Downloading http://yann.lecun.com/exdb/mnist/train-images-idx3-ubyte.gz to ./data/MNIST/raw/train-images-idx3-ubyte.gz\n"
     ]
    },
    {
     "name": "stderr",
     "output_type": "stream",
     "text": [
      "100%|██████████| 9912422/9912422 [00:04<00:00, 2406425.02it/s]\n"
     ]
    },
    {
     "name": "stdout",
     "output_type": "stream",
     "text": [
      "Extracting ./data/MNIST/raw/train-images-idx3-ubyte.gz to ./data/MNIST/raw\n",
      "\n",
      "Downloading http://yann.lecun.com/exdb/mnist/train-labels-idx1-ubyte.gz\n",
      "Downloading http://yann.lecun.com/exdb/mnist/train-labels-idx1-ubyte.gz to ./data/MNIST/raw/train-labels-idx1-ubyte.gz\n"
     ]
    },
    {
     "name": "stderr",
     "output_type": "stream",
     "text": [
      "100%|██████████| 28881/28881 [00:00<00:00, 40177676.23it/s]"
     ]
    },
    {
     "name": "stdout",
     "output_type": "stream",
     "text": [
      "Extracting ./data/MNIST/raw/train-labels-idx1-ubyte.gz to ./data/MNIST/raw\n",
      "\n",
      "Downloading http://yann.lecun.com/exdb/mnist/t10k-images-idx3-ubyte.gz\n"
     ]
    },
    {
     "name": "stderr",
     "output_type": "stream",
     "text": [
      "\n"
     ]
    },
    {
     "name": "stdout",
     "output_type": "stream",
     "text": [
      "Downloading http://yann.lecun.com/exdb/mnist/t10k-images-idx3-ubyte.gz to ./data/MNIST/raw/t10k-images-idx3-ubyte.gz\n"
     ]
    },
    {
     "name": "stderr",
     "output_type": "stream",
     "text": [
      "100%|██████████| 1648877/1648877 [00:00<00:00, 4454379.19it/s]\n"
     ]
    },
    {
     "name": "stdout",
     "output_type": "stream",
     "text": [
      "Extracting ./data/MNIST/raw/t10k-images-idx3-ubyte.gz to ./data/MNIST/raw\n",
      "\n",
      "Downloading http://yann.lecun.com/exdb/mnist/t10k-labels-idx1-ubyte.gz\n",
      "Downloading http://yann.lecun.com/exdb/mnist/t10k-labels-idx1-ubyte.gz to ./data/MNIST/raw/t10k-labels-idx1-ubyte.gz\n"
     ]
    },
    {
     "name": "stderr",
     "output_type": "stream",
     "text": [
      "100%|██████████| 4542/4542 [00:00<00:00, 12802774.71it/s]"
     ]
    },
    {
     "name": "stdout",
     "output_type": "stream",
     "text": [
      "Extracting ./data/MNIST/raw/t10k-labels-idx1-ubyte.gz to ./data/MNIST/raw\n",
      "\n"
     ]
    },
    {
     "name": "stderr",
     "output_type": "stream",
     "text": [
      "\n"
     ]
    }
   ],
   "source": [
    "#load data\n",
    "transform = transforms.Compose([transforms.ToTensor(),transforms.Normalize((0.5,),(0.5,))])\n",
    "\n",
    "trainset = datasets.MNIST(root='./data',train=True,download=True,transform=transform)\n",
    "trainloader = DataLoader(trainset,batch_size=64,shuffle=True)\n",
    "\n",
    "testset = datasets.MNIST(root='./data',train=False,download=True,transform=transform)\n",
    "testloader = DataLoader(testset,batch_size=64,shuffle=False)\n",
    "\n"
   ]
  },
  {
   "cell_type": "code",
   "execution_count": 5,
   "metadata": {},
   "outputs": [
    {
     "name": "stderr",
     "output_type": "stream",
     "text": [
      "100%|██████████| 938/938 [00:09<00:00, 96.76it/s] \n"
     ]
    },
    {
     "name": "stdout",
     "output_type": "stream",
     "text": [
      "Loss: 1.663\n"
     ]
    },
    {
     "name": "stderr",
     "output_type": "stream",
     "text": [
      "100%|██████████| 938/938 [00:11<00:00, 81.57it/s]\n"
     ]
    },
    {
     "name": "stdout",
     "output_type": "stream",
     "text": [
      "Loss: 1.540\n"
     ]
    },
    {
     "name": "stderr",
     "output_type": "stream",
     "text": [
      "100%|██████████| 938/938 [00:10<00:00, 93.37it/s] \n"
     ]
    },
    {
     "name": "stdout",
     "output_type": "stream",
     "text": [
      "Loss: 1.521\n"
     ]
    },
    {
     "name": "stderr",
     "output_type": "stream",
     "text": [
      " 97%|█████████▋| 907/938 [00:11<00:00, 83.10it/s]"
     ]
    }
   ],
   "source": [
    "# Train teacher\n",
    "teacher = Teacher()\n",
    "teacher_optimizer = optim.Adam(teacher.parameters(),lr=0.001)\n",
    "teacher.train()\n",
    "\n",
    "for epoch in range(5):\n",
    "    running_loss = 0.0\n",
    "    for i,data in enumerate(tqdm(trainloader)):\n",
    "        inputs,labels = data\n",
    "        teacher_optimizer.zero_grad()\n",
    "        outputs = teacher(inputs)\n",
    "        loss = nn.functional.cross_entropy(outputs,labels)\n",
    "        loss.backward()\n",
    "        teacher_optimizer.step()\n",
    "        running_loss += loss.item()\n",
    "    print(\"Loss: %.3f\" % (running_loss/len(trainloader)))\n",
    "print('Finished Training')"
   ]
  },
  {
   "cell_type": "code",
   "execution_count": null,
   "metadata": {},
   "outputs": [
    {
     "name": "stderr",
     "output_type": "stream",
     "text": [
      "100%|██████████| 938/938 [00:11<00:00, 84.96it/s]\n"
     ]
    },
    {
     "name": "stdout",
     "output_type": "stream",
     "text": [
      "Student loss: -479.680\n",
      "Teacher loss: 1.495\n",
      "Distillation loss: -2.402\n",
      "Epoch: 1, Loss: -479.680\n"
     ]
    },
    {
     "name": "stderr",
     "output_type": "stream",
     "text": [
      "100%|██████████| 938/938 [00:11<00:00, 83.99it/s]\n"
     ]
    },
    {
     "name": "stdout",
     "output_type": "stream",
     "text": [
      "Student loss: -479.737\n",
      "Teacher loss: 1.492\n",
      "Distillation loss: -2.402\n",
      "Epoch: 2, Loss: -479.737\n",
      "Finished Training\n"
     ]
    },
    {
     "name": "stderr",
     "output_type": "stream",
     "text": [
      "100%|██████████| 157/157 [00:01<00:00, 98.04it/s] \n"
     ]
    },
    {
     "name": "stdout",
     "output_type": "stream",
     "text": [
      "Accuracy of the network on the 10000 test images: 93 %\n"
     ]
    },
    {
     "name": "stderr",
     "output_type": "stream",
     "text": [
      "100%|██████████| 157/157 [00:01<00:00, 92.62it/s]"
     ]
    },
    {
     "name": "stdout",
     "output_type": "stream",
     "text": [
      "Accuracy of the network on the 10000 test images: 93 %\n"
     ]
    },
    {
     "name": "stderr",
     "output_type": "stream",
     "text": [
      "\n"
     ]
    }
   ],
   "source": [
    "# Distill teacher to student\n",
    "student = Student()\n",
    "distiller = Distiller(student,teacher)\n",
    "optimizer = optim.Adam(student.parameters(),lr=0.001)\n",
    "distiller.train(trainloader,optimizer,epochs=2,T=20,alpha=0.5)\n",
    "\n",
    "#test\n",
    "distiller.test(testloader)\n",
    "\n",
    "#save\n",
    "distiller.save('student.pth')\n",
    "\n",
    "#load\n",
    "student = Student()\n",
    "distiller = Distiller(student,teacher)\n",
    "distiller.load('student.pth')\n",
    "\n",
    "#test\n",
    "distiller.test(testloader)\n",
    "\n",
    "# Path: test.py.ipynb"
   ]
  },
  {
   "cell_type": "code",
   "execution_count": null,
   "metadata": {},
   "outputs": [
    {
     "name": "stderr",
     "output_type": "stream",
     "text": [
      "100%|██████████| 938/938 [00:10<00:00, 88.06it/s] \n"
     ]
    },
    {
     "name": "stdout",
     "output_type": "stream",
     "text": [
      "Loss: 1.614\n"
     ]
    },
    {
     "name": "stderr",
     "output_type": "stream",
     "text": [
      "100%|██████████| 938/938 [00:12<00:00, 78.03it/s] \n"
     ]
    },
    {
     "name": "stdout",
     "output_type": "stream",
     "text": [
      "Loss: 1.535\n"
     ]
    },
    {
     "name": "stderr",
     "output_type": "stream",
     "text": [
      "100%|██████████| 938/938 [00:11<00:00, 80.70it/s]\n"
     ]
    },
    {
     "name": "stdout",
     "output_type": "stream",
     "text": [
      "Loss: 1.519\n"
     ]
    },
    {
     "name": "stderr",
     "output_type": "stream",
     "text": [
      " 17%|█▋        | 160/938 [00:01<00:09, 85.00it/s]"
     ]
    }
   ],
   "source": [
    "# Train student from scratch for comparison\n",
    "student = Student()\n",
    "optimizer = optim.Adam(student.parameters(),lr=0.001)\n",
    "student.train()\n",
    "\n",
    "for epoch in range(5):\n",
    "    running_loss = 0.0\n",
    "    for i,data in enumerate(tqdm(trainloader)):\n",
    "        inputs,labels = data\n",
    "        optimizer.zero_grad()\n",
    "        outputs = student(inputs)\n",
    "        loss = nn.functional.cross_entropy(outputs,labels)\n",
    "        loss.backward()\n",
    "        optimizer.step()\n",
    "        running_loss += loss.item()\n",
    "    print(\"Loss: %.3f\" % (running_loss/len(trainloader)))"
   ]
  }
 ],
 "metadata": {
  "kernelspec": {
   "display_name": "Python 3",
   "language": "python",
   "name": "python3"
  },
  "language_info": {
   "codemirror_mode": {
    "name": "ipython",
    "version": 3
   },
   "file_extension": ".py",
   "mimetype": "text/x-python",
   "name": "python",
   "nbconvert_exporter": "python",
   "pygments_lexer": "ipython3",
   "version": "3.11.5"
  }
 },
 "nbformat": 4,
 "nbformat_minor": 5
}
